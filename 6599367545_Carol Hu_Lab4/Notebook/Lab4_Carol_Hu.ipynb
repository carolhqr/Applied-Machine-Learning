{
 "cells": [
  {
   "cell_type": "markdown",
   "metadata": {},
   "source": [
    "(a) Download the YouTube Spam Collection data set from: https://archive.ics. uci.edu/ml/datasets/YouTube+Spam+Collection. We will mainly work with the Eminem file. Note that the chronological order of the comments were kept."
   ]
  },
  {
   "cell_type": "markdown",
   "metadata": {},
   "source": [
    "## (b) Select the first ⌊0.8H⌋ of H hams and the first ⌊0.8S⌋ of S spams as your training set and the rest as your test set."
   ]
  },
  {
   "cell_type": "code",
   "execution_count": 69,
   "metadata": {},
   "outputs": [
    {
     "name": "stdout",
     "output_type": "stream",
     "text": [
      "<class 'pandas.core.frame.DataFrame'>\n",
      "RangeIndex: 448 entries, 0 to 447\n",
      "Data columns (total 5 columns):\n",
      " #   Column      Non-Null Count  Dtype \n",
      "---  ------      --------------  ----- \n",
      " 0   COMMENT_ID  448 non-null    object\n",
      " 1   AUTHOR      448 non-null    object\n",
      " 2   DATE        203 non-null    object\n",
      " 3   CONTENT     448 non-null    object\n",
      " 4   CLASS       448 non-null    int64 \n",
      "dtypes: int64(1), object(4)\n",
      "memory usage: 17.6+ KB\n"
     ]
    }
   ],
   "source": [
    "import pandas as pd\n",
    "# read csv\n",
    "df = pd.read_csv('../Data/Youtube04-Eminem.csv')\n",
    "df.info()"
   ]
  },
  {
   "cell_type": "code",
   "execution_count": 70,
   "metadata": {},
   "outputs": [
    {
     "name": "stdout",
     "output_type": "stream",
     "text": [
      "length of ham: 203\n",
      "length of spam: 245\n"
     ]
    }
   ],
   "source": [
    "from sklearn.model_selection import train_test_split\n",
    "# split the ham and spam cases\n",
    "ham = df[df['CLASS']==0]\n",
    "spam = df[df['CLASS']==1]\n",
    "print(\"length of ham:\",len(ham))\n",
    "print(\"length of spam:\",len(spam))\n",
    "# separate x and y\n",
    "ham_X = ham.iloc[:,:4]\n",
    "ham_y = ham.iloc[:,4]\n",
    "spam_X = spam.iloc[:,:4]\n",
    "spam_y = spam.iloc[:,4]\n",
    "# split the test and train data\n",
    "ham_X_train, ham_X_test, ham_y_train, ham_y_test = train_test_split(ham_X,ham_y,train_size=0.8,shuffle=False)\n",
    "spam_X_train, spam_X_test, spam_y_train, spam_y_test = train_test_split(spam_X,spam_y,train_size=0.8, shuffle=False)\n",
    "# get training and test set\n",
    "X_train = pd.concat([ham_X_train,spam_X_train])\n",
    "y_train = pd.concat([ham_y_train,spam_y_train])\n",
    "X_test = pd.concat([ham_X_test,spam_X_test])\n",
    "y_test = pd.concat([ham_y_test,spam_y_test])\n"
   ]
  },
  {
   "cell_type": "markdown",
   "metadata": {},
   "source": [
    "## (c) Represent each comment using TF-IDF features. Consider each comment a document and the whole set of comments in the file (e.g. Eminem) as the corpus."
   ]
  },
  {
   "cell_type": "code",
   "execution_count": 79,
   "metadata": {},
   "outputs": [
    {
     "data": {
      "text/html": [
       "<div>\n",
       "<style scoped>\n",
       "    .dataframe tbody tr th:only-of-type {\n",
       "        vertical-align: middle;\n",
       "    }\n",
       "\n",
       "    .dataframe tbody tr th {\n",
       "        vertical-align: top;\n",
       "    }\n",
       "\n",
       "    .dataframe thead th {\n",
       "        text-align: right;\n",
       "    }\n",
       "</style>\n",
       "<table border=\"1\" class=\"dataframe\">\n",
       "  <thead>\n",
       "    <tr style=\"text-align: right;\">\n",
       "      <th></th>\n",
       "      <th>00</th>\n",
       "      <th>000</th>\n",
       "      <th>047000</th>\n",
       "      <th>09</th>\n",
       "      <th>10</th>\n",
       "      <th>100</th>\n",
       "      <th>1000</th>\n",
       "      <th>100877300245414</th>\n",
       "      <th>11</th>\n",
       "      <th>12</th>\n",
       "      <th>...</th>\n",
       "      <th>youtube</th>\n",
       "      <th>youtuber</th>\n",
       "      <th>youtubers</th>\n",
       "      <th>yrs</th>\n",
       "      <th>ytma</th>\n",
       "      <th>yuliya</th>\n",
       "      <th>yuttx04oyqq</th>\n",
       "      <th>zesty</th>\n",
       "      <th>zip</th>\n",
       "      <th>zonepa</th>\n",
       "    </tr>\n",
       "  </thead>\n",
       "  <tbody>\n",
       "    <tr>\n",
       "      <th>0</th>\n",
       "      <td>0.0</td>\n",
       "      <td>0.0</td>\n",
       "      <td>0.0</td>\n",
       "      <td>0.0</td>\n",
       "      <td>0.0</td>\n",
       "      <td>0.0</td>\n",
       "      <td>0.0</td>\n",
       "      <td>0.0</td>\n",
       "      <td>0.0</td>\n",
       "      <td>0.0</td>\n",
       "      <td>...</td>\n",
       "      <td>0.0</td>\n",
       "      <td>0.0</td>\n",
       "      <td>0.0</td>\n",
       "      <td>0.0</td>\n",
       "      <td>0.0</td>\n",
       "      <td>0.0</td>\n",
       "      <td>0.000000</td>\n",
       "      <td>0.0</td>\n",
       "      <td>0.0</td>\n",
       "      <td>0.0</td>\n",
       "    </tr>\n",
       "    <tr>\n",
       "      <th>1</th>\n",
       "      <td>0.0</td>\n",
       "      <td>0.0</td>\n",
       "      <td>0.0</td>\n",
       "      <td>0.0</td>\n",
       "      <td>0.0</td>\n",
       "      <td>0.0</td>\n",
       "      <td>0.0</td>\n",
       "      <td>0.0</td>\n",
       "      <td>0.0</td>\n",
       "      <td>0.0</td>\n",
       "      <td>...</td>\n",
       "      <td>0.0</td>\n",
       "      <td>0.0</td>\n",
       "      <td>0.0</td>\n",
       "      <td>0.0</td>\n",
       "      <td>0.0</td>\n",
       "      <td>0.0</td>\n",
       "      <td>0.000000</td>\n",
       "      <td>0.0</td>\n",
       "      <td>0.0</td>\n",
       "      <td>0.0</td>\n",
       "    </tr>\n",
       "    <tr>\n",
       "      <th>2</th>\n",
       "      <td>0.0</td>\n",
       "      <td>0.0</td>\n",
       "      <td>0.0</td>\n",
       "      <td>0.0</td>\n",
       "      <td>0.0</td>\n",
       "      <td>0.0</td>\n",
       "      <td>0.0</td>\n",
       "      <td>0.0</td>\n",
       "      <td>0.0</td>\n",
       "      <td>0.0</td>\n",
       "      <td>...</td>\n",
       "      <td>0.0</td>\n",
       "      <td>0.0</td>\n",
       "      <td>0.0</td>\n",
       "      <td>0.0</td>\n",
       "      <td>0.0</td>\n",
       "      <td>0.0</td>\n",
       "      <td>0.000000</td>\n",
       "      <td>0.0</td>\n",
       "      <td>0.0</td>\n",
       "      <td>0.0</td>\n",
       "    </tr>\n",
       "    <tr>\n",
       "      <th>3</th>\n",
       "      <td>0.0</td>\n",
       "      <td>0.0</td>\n",
       "      <td>0.0</td>\n",
       "      <td>0.0</td>\n",
       "      <td>0.0</td>\n",
       "      <td>0.0</td>\n",
       "      <td>0.0</td>\n",
       "      <td>0.0</td>\n",
       "      <td>0.0</td>\n",
       "      <td>0.0</td>\n",
       "      <td>...</td>\n",
       "      <td>0.0</td>\n",
       "      <td>0.0</td>\n",
       "      <td>0.0</td>\n",
       "      <td>0.0</td>\n",
       "      <td>0.0</td>\n",
       "      <td>0.0</td>\n",
       "      <td>0.000000</td>\n",
       "      <td>0.0</td>\n",
       "      <td>0.0</td>\n",
       "      <td>0.0</td>\n",
       "    </tr>\n",
       "    <tr>\n",
       "      <th>4</th>\n",
       "      <td>0.0</td>\n",
       "      <td>0.0</td>\n",
       "      <td>0.0</td>\n",
       "      <td>0.0</td>\n",
       "      <td>0.0</td>\n",
       "      <td>0.0</td>\n",
       "      <td>0.0</td>\n",
       "      <td>0.0</td>\n",
       "      <td>0.0</td>\n",
       "      <td>0.0</td>\n",
       "      <td>...</td>\n",
       "      <td>0.0</td>\n",
       "      <td>0.0</td>\n",
       "      <td>0.0</td>\n",
       "      <td>0.0</td>\n",
       "      <td>0.0</td>\n",
       "      <td>0.0</td>\n",
       "      <td>0.000000</td>\n",
       "      <td>0.0</td>\n",
       "      <td>0.0</td>\n",
       "      <td>0.0</td>\n",
       "    </tr>\n",
       "    <tr>\n",
       "      <th>...</th>\n",
       "      <td>...</td>\n",
       "      <td>...</td>\n",
       "      <td>...</td>\n",
       "      <td>...</td>\n",
       "      <td>...</td>\n",
       "      <td>...</td>\n",
       "      <td>...</td>\n",
       "      <td>...</td>\n",
       "      <td>...</td>\n",
       "      <td>...</td>\n",
       "      <td>...</td>\n",
       "      <td>...</td>\n",
       "      <td>...</td>\n",
       "      <td>...</td>\n",
       "      <td>...</td>\n",
       "      <td>...</td>\n",
       "      <td>...</td>\n",
       "      <td>...</td>\n",
       "      <td>...</td>\n",
       "      <td>...</td>\n",
       "      <td>...</td>\n",
       "    </tr>\n",
       "    <tr>\n",
       "      <th>353</th>\n",
       "      <td>0.0</td>\n",
       "      <td>0.0</td>\n",
       "      <td>0.0</td>\n",
       "      <td>0.0</td>\n",
       "      <td>0.0</td>\n",
       "      <td>0.0</td>\n",
       "      <td>0.0</td>\n",
       "      <td>0.0</td>\n",
       "      <td>0.0</td>\n",
       "      <td>0.0</td>\n",
       "      <td>...</td>\n",
       "      <td>0.0</td>\n",
       "      <td>0.0</td>\n",
       "      <td>0.0</td>\n",
       "      <td>0.0</td>\n",
       "      <td>0.0</td>\n",
       "      <td>0.0</td>\n",
       "      <td>0.000000</td>\n",
       "      <td>0.0</td>\n",
       "      <td>0.0</td>\n",
       "      <td>0.0</td>\n",
       "    </tr>\n",
       "    <tr>\n",
       "      <th>354</th>\n",
       "      <td>0.0</td>\n",
       "      <td>0.0</td>\n",
       "      <td>0.0</td>\n",
       "      <td>0.0</td>\n",
       "      <td>0.0</td>\n",
       "      <td>0.0</td>\n",
       "      <td>0.0</td>\n",
       "      <td>0.0</td>\n",
       "      <td>0.0</td>\n",
       "      <td>0.0</td>\n",
       "      <td>...</td>\n",
       "      <td>0.0</td>\n",
       "      <td>0.0</td>\n",
       "      <td>0.0</td>\n",
       "      <td>0.0</td>\n",
       "      <td>0.0</td>\n",
       "      <td>0.0</td>\n",
       "      <td>0.579294</td>\n",
       "      <td>0.0</td>\n",
       "      <td>0.0</td>\n",
       "      <td>0.0</td>\n",
       "    </tr>\n",
       "    <tr>\n",
       "      <th>355</th>\n",
       "      <td>0.0</td>\n",
       "      <td>0.0</td>\n",
       "      <td>0.0</td>\n",
       "      <td>0.0</td>\n",
       "      <td>0.0</td>\n",
       "      <td>0.0</td>\n",
       "      <td>0.0</td>\n",
       "      <td>0.0</td>\n",
       "      <td>0.0</td>\n",
       "      <td>0.0</td>\n",
       "      <td>...</td>\n",
       "      <td>0.0</td>\n",
       "      <td>0.0</td>\n",
       "      <td>0.0</td>\n",
       "      <td>0.0</td>\n",
       "      <td>0.0</td>\n",
       "      <td>0.0</td>\n",
       "      <td>0.000000</td>\n",
       "      <td>0.0</td>\n",
       "      <td>0.0</td>\n",
       "      <td>0.0</td>\n",
       "    </tr>\n",
       "    <tr>\n",
       "      <th>356</th>\n",
       "      <td>0.0</td>\n",
       "      <td>0.0</td>\n",
       "      <td>0.0</td>\n",
       "      <td>0.0</td>\n",
       "      <td>0.0</td>\n",
       "      <td>0.0</td>\n",
       "      <td>0.0</td>\n",
       "      <td>0.0</td>\n",
       "      <td>0.0</td>\n",
       "      <td>0.0</td>\n",
       "      <td>...</td>\n",
       "      <td>0.0</td>\n",
       "      <td>0.0</td>\n",
       "      <td>0.0</td>\n",
       "      <td>0.0</td>\n",
       "      <td>0.0</td>\n",
       "      <td>0.0</td>\n",
       "      <td>0.000000</td>\n",
       "      <td>0.0</td>\n",
       "      <td>0.0</td>\n",
       "      <td>0.0</td>\n",
       "    </tr>\n",
       "    <tr>\n",
       "      <th>357</th>\n",
       "      <td>0.0</td>\n",
       "      <td>0.0</td>\n",
       "      <td>0.0</td>\n",
       "      <td>0.0</td>\n",
       "      <td>0.0</td>\n",
       "      <td>0.0</td>\n",
       "      <td>0.0</td>\n",
       "      <td>0.0</td>\n",
       "      <td>0.0</td>\n",
       "      <td>0.0</td>\n",
       "      <td>...</td>\n",
       "      <td>0.0</td>\n",
       "      <td>0.0</td>\n",
       "      <td>0.0</td>\n",
       "      <td>0.0</td>\n",
       "      <td>0.0</td>\n",
       "      <td>0.0</td>\n",
       "      <td>0.000000</td>\n",
       "      <td>0.0</td>\n",
       "      <td>0.0</td>\n",
       "      <td>0.0</td>\n",
       "    </tr>\n",
       "  </tbody>\n",
       "</table>\n",
       "<p>358 rows × 1602 columns</p>\n",
       "</div>"
      ],
      "text/plain": [
       "      00  000  047000   09   10  100  1000  100877300245414   11   12  ...  \\\n",
       "0    0.0  0.0     0.0  0.0  0.0  0.0   0.0              0.0  0.0  0.0  ...   \n",
       "1    0.0  0.0     0.0  0.0  0.0  0.0   0.0              0.0  0.0  0.0  ...   \n",
       "2    0.0  0.0     0.0  0.0  0.0  0.0   0.0              0.0  0.0  0.0  ...   \n",
       "3    0.0  0.0     0.0  0.0  0.0  0.0   0.0              0.0  0.0  0.0  ...   \n",
       "4    0.0  0.0     0.0  0.0  0.0  0.0   0.0              0.0  0.0  0.0  ...   \n",
       "..   ...  ...     ...  ...  ...  ...   ...              ...  ...  ...  ...   \n",
       "353  0.0  0.0     0.0  0.0  0.0  0.0   0.0              0.0  0.0  0.0  ...   \n",
       "354  0.0  0.0     0.0  0.0  0.0  0.0   0.0              0.0  0.0  0.0  ...   \n",
       "355  0.0  0.0     0.0  0.0  0.0  0.0   0.0              0.0  0.0  0.0  ...   \n",
       "356  0.0  0.0     0.0  0.0  0.0  0.0   0.0              0.0  0.0  0.0  ...   \n",
       "357  0.0  0.0     0.0  0.0  0.0  0.0   0.0              0.0  0.0  0.0  ...   \n",
       "\n",
       "     youtube  youtuber  youtubers  yrs  ytma  yuliya  yuttx04oyqq  zesty  zip  \\\n",
       "0        0.0       0.0        0.0  0.0   0.0     0.0     0.000000    0.0  0.0   \n",
       "1        0.0       0.0        0.0  0.0   0.0     0.0     0.000000    0.0  0.0   \n",
       "2        0.0       0.0        0.0  0.0   0.0     0.0     0.000000    0.0  0.0   \n",
       "3        0.0       0.0        0.0  0.0   0.0     0.0     0.000000    0.0  0.0   \n",
       "4        0.0       0.0        0.0  0.0   0.0     0.0     0.000000    0.0  0.0   \n",
       "..       ...       ...        ...  ...   ...     ...          ...    ...  ...   \n",
       "353      0.0       0.0        0.0  0.0   0.0     0.0     0.000000    0.0  0.0   \n",
       "354      0.0       0.0        0.0  0.0   0.0     0.0     0.579294    0.0  0.0   \n",
       "355      0.0       0.0        0.0  0.0   0.0     0.0     0.000000    0.0  0.0   \n",
       "356      0.0       0.0        0.0  0.0   0.0     0.0     0.000000    0.0  0.0   \n",
       "357      0.0       0.0        0.0  0.0   0.0     0.0     0.000000    0.0  0.0   \n",
       "\n",
       "     zonepa  \n",
       "0       0.0  \n",
       "1       0.0  \n",
       "2       0.0  \n",
       "3       0.0  \n",
       "4       0.0  \n",
       "..      ...  \n",
       "353     0.0  \n",
       "354     0.0  \n",
       "355     0.0  \n",
       "356     0.0  \n",
       "357     0.0  \n",
       "\n",
       "[358 rows x 1602 columns]"
      ]
     },
     "execution_count": 79,
     "metadata": {},
     "output_type": "execute_result"
    }
   ],
   "source": [
    "from sklearn.feature_extraction.text import TfidfVectorizer\n",
    "vectorizer = TfidfVectorizer()\n",
    "\n",
    "train_comment = X_train['CONTENT']\n",
    "test_comment = X_test['CONTENT']\n",
    "corpus = pd.concat([train_comment,test_comment])\n",
    "corpus_tfidf = vectorizer.fit_transform(corpus)\n",
    "term = vectorizer.get_feature_names()\n",
    "corpus_vec = pd.DataFrame(corpus_tfidf.toarray(),columns = term)\n",
    "\n",
    "X_train_vec = corpus_vec[:358]\n",
    "X_test_vec = corpus_vec[358:]\n",
    "X_train_vec"
   ]
  },
  {
   "cell_type": "code",
   "execution_count": 72,
   "metadata": {},
   "outputs": [],
   "source": [
    "# from sklearn.feature_extraction.text import TfidfVectorizer\n",
    "# # represent train comment\n",
    "# train_comment = X_train[\"CONTENT\"]\n",
    "# vectorizer = TfidfVectorizer()\n",
    "# train_tfidf = vectorizer.fit_transform(train_comment)\n",
    "# term_train = vectorizer.get_feature_names()\n",
    "# print(\"TF-IDF of training set\")\n",
    "# X_train = pd.DataFrame(train_tfidf.toarray(),columns = term_train)"
   ]
  },
  {
   "cell_type": "code",
   "execution_count": 88,
   "metadata": {},
   "outputs": [
    {
     "name": "stdout",
     "output_type": "stream",
     "text": [
      "TF-IDF of test set\n"
     ]
    },
    {
     "data": {
      "text/html": [
       "<div>\n",
       "<style scoped>\n",
       "    .dataframe tbody tr th:only-of-type {\n",
       "        vertical-align: middle;\n",
       "    }\n",
       "\n",
       "    .dataframe tbody tr th {\n",
       "        vertical-align: top;\n",
       "    }\n",
       "\n",
       "    .dataframe thead th {\n",
       "        text-align: right;\n",
       "    }\n",
       "</style>\n",
       "<table border=\"1\" class=\"dataframe\">\n",
       "  <thead>\n",
       "    <tr style=\"text-align: right;\">\n",
       "      <th></th>\n",
       "      <th>00</th>\n",
       "      <th>1000</th>\n",
       "      <th>11</th>\n",
       "      <th>12year</th>\n",
       "      <th>14</th>\n",
       "      <th>15</th>\n",
       "      <th>1990</th>\n",
       "      <th>200</th>\n",
       "      <th>2005</th>\n",
       "      <th>2013</th>\n",
       "      <th>...</th>\n",
       "      <th>yahoo</th>\n",
       "      <th>yall</th>\n",
       "      <th>year</th>\n",
       "      <th>you</th>\n",
       "      <th>young</th>\n",
       "      <th>your</th>\n",
       "      <th>yourself</th>\n",
       "      <th>youtube</th>\n",
       "      <th>youtuber</th>\n",
       "      <th>yrs</th>\n",
       "    </tr>\n",
       "  </thead>\n",
       "  <tbody>\n",
       "    <tr>\n",
       "      <th>0</th>\n",
       "      <td>0.0</td>\n",
       "      <td>0.000000</td>\n",
       "      <td>0.0</td>\n",
       "      <td>0.0</td>\n",
       "      <td>0.0</td>\n",
       "      <td>0.0</td>\n",
       "      <td>0.0</td>\n",
       "      <td>0.0</td>\n",
       "      <td>0.0</td>\n",
       "      <td>0.0</td>\n",
       "      <td>...</td>\n",
       "      <td>0.0</td>\n",
       "      <td>0.0</td>\n",
       "      <td>0.0</td>\n",
       "      <td>0.000000</td>\n",
       "      <td>0.0</td>\n",
       "      <td>0.000000</td>\n",
       "      <td>0.000000</td>\n",
       "      <td>0.0</td>\n",
       "      <td>0.0</td>\n",
       "      <td>0.000000</td>\n",
       "    </tr>\n",
       "    <tr>\n",
       "      <th>1</th>\n",
       "      <td>0.0</td>\n",
       "      <td>0.000000</td>\n",
       "      <td>0.0</td>\n",
       "      <td>0.0</td>\n",
       "      <td>0.0</td>\n",
       "      <td>0.0</td>\n",
       "      <td>0.0</td>\n",
       "      <td>0.0</td>\n",
       "      <td>0.0</td>\n",
       "      <td>0.0</td>\n",
       "      <td>...</td>\n",
       "      <td>0.0</td>\n",
       "      <td>0.0</td>\n",
       "      <td>0.0</td>\n",
       "      <td>0.000000</td>\n",
       "      <td>0.0</td>\n",
       "      <td>0.000000</td>\n",
       "      <td>0.000000</td>\n",
       "      <td>0.0</td>\n",
       "      <td>0.0</td>\n",
       "      <td>0.000000</td>\n",
       "    </tr>\n",
       "    <tr>\n",
       "      <th>2</th>\n",
       "      <td>0.0</td>\n",
       "      <td>0.000000</td>\n",
       "      <td>0.0</td>\n",
       "      <td>0.0</td>\n",
       "      <td>0.0</td>\n",
       "      <td>0.0</td>\n",
       "      <td>0.0</td>\n",
       "      <td>0.0</td>\n",
       "      <td>0.0</td>\n",
       "      <td>0.0</td>\n",
       "      <td>...</td>\n",
       "      <td>0.0</td>\n",
       "      <td>0.0</td>\n",
       "      <td>0.0</td>\n",
       "      <td>0.000000</td>\n",
       "      <td>0.0</td>\n",
       "      <td>0.000000</td>\n",
       "      <td>0.000000</td>\n",
       "      <td>0.0</td>\n",
       "      <td>0.0</td>\n",
       "      <td>0.000000</td>\n",
       "    </tr>\n",
       "    <tr>\n",
       "      <th>3</th>\n",
       "      <td>0.0</td>\n",
       "      <td>0.000000</td>\n",
       "      <td>0.0</td>\n",
       "      <td>0.0</td>\n",
       "      <td>0.0</td>\n",
       "      <td>0.0</td>\n",
       "      <td>0.0</td>\n",
       "      <td>0.0</td>\n",
       "      <td>0.0</td>\n",
       "      <td>0.0</td>\n",
       "      <td>...</td>\n",
       "      <td>0.0</td>\n",
       "      <td>0.0</td>\n",
       "      <td>0.0</td>\n",
       "      <td>0.568499</td>\n",
       "      <td>0.0</td>\n",
       "      <td>0.000000</td>\n",
       "      <td>0.000000</td>\n",
       "      <td>0.0</td>\n",
       "      <td>0.0</td>\n",
       "      <td>0.000000</td>\n",
       "    </tr>\n",
       "    <tr>\n",
       "      <th>4</th>\n",
       "      <td>0.0</td>\n",
       "      <td>0.000000</td>\n",
       "      <td>0.0</td>\n",
       "      <td>0.0</td>\n",
       "      <td>0.0</td>\n",
       "      <td>0.0</td>\n",
       "      <td>0.0</td>\n",
       "      <td>0.0</td>\n",
       "      <td>0.0</td>\n",
       "      <td>0.0</td>\n",
       "      <td>...</td>\n",
       "      <td>0.0</td>\n",
       "      <td>0.0</td>\n",
       "      <td>0.0</td>\n",
       "      <td>0.429571</td>\n",
       "      <td>0.0</td>\n",
       "      <td>0.000000</td>\n",
       "      <td>0.000000</td>\n",
       "      <td>0.0</td>\n",
       "      <td>0.0</td>\n",
       "      <td>0.000000</td>\n",
       "    </tr>\n",
       "    <tr>\n",
       "      <th>...</th>\n",
       "      <td>...</td>\n",
       "      <td>...</td>\n",
       "      <td>...</td>\n",
       "      <td>...</td>\n",
       "      <td>...</td>\n",
       "      <td>...</td>\n",
       "      <td>...</td>\n",
       "      <td>...</td>\n",
       "      <td>...</td>\n",
       "      <td>...</td>\n",
       "      <td>...</td>\n",
       "      <td>...</td>\n",
       "      <td>...</td>\n",
       "      <td>...</td>\n",
       "      <td>...</td>\n",
       "      <td>...</td>\n",
       "      <td>...</td>\n",
       "      <td>...</td>\n",
       "      <td>...</td>\n",
       "      <td>...</td>\n",
       "      <td>...</td>\n",
       "    </tr>\n",
       "    <tr>\n",
       "      <th>85</th>\n",
       "      <td>0.0</td>\n",
       "      <td>0.000000</td>\n",
       "      <td>0.0</td>\n",
       "      <td>0.0</td>\n",
       "      <td>0.0</td>\n",
       "      <td>0.0</td>\n",
       "      <td>0.0</td>\n",
       "      <td>0.0</td>\n",
       "      <td>0.0</td>\n",
       "      <td>0.0</td>\n",
       "      <td>...</td>\n",
       "      <td>0.0</td>\n",
       "      <td>0.0</td>\n",
       "      <td>0.0</td>\n",
       "      <td>0.235110</td>\n",
       "      <td>0.0</td>\n",
       "      <td>0.261718</td>\n",
       "      <td>0.154071</td>\n",
       "      <td>0.0</td>\n",
       "      <td>0.0</td>\n",
       "      <td>0.000000</td>\n",
       "    </tr>\n",
       "    <tr>\n",
       "      <th>86</th>\n",
       "      <td>0.0</td>\n",
       "      <td>0.000000</td>\n",
       "      <td>0.0</td>\n",
       "      <td>0.0</td>\n",
       "      <td>0.0</td>\n",
       "      <td>0.0</td>\n",
       "      <td>0.0</td>\n",
       "      <td>0.0</td>\n",
       "      <td>0.0</td>\n",
       "      <td>0.0</td>\n",
       "      <td>...</td>\n",
       "      <td>0.0</td>\n",
       "      <td>0.0</td>\n",
       "      <td>0.0</td>\n",
       "      <td>0.000000</td>\n",
       "      <td>0.0</td>\n",
       "      <td>0.000000</td>\n",
       "      <td>0.000000</td>\n",
       "      <td>0.0</td>\n",
       "      <td>0.0</td>\n",
       "      <td>0.000000</td>\n",
       "    </tr>\n",
       "    <tr>\n",
       "      <th>87</th>\n",
       "      <td>0.0</td>\n",
       "      <td>0.000000</td>\n",
       "      <td>0.0</td>\n",
       "      <td>0.0</td>\n",
       "      <td>0.0</td>\n",
       "      <td>0.0</td>\n",
       "      <td>0.0</td>\n",
       "      <td>0.0</td>\n",
       "      <td>0.0</td>\n",
       "      <td>0.0</td>\n",
       "      <td>...</td>\n",
       "      <td>0.0</td>\n",
       "      <td>0.0</td>\n",
       "      <td>0.0</td>\n",
       "      <td>0.000000</td>\n",
       "      <td>0.0</td>\n",
       "      <td>0.000000</td>\n",
       "      <td>0.000000</td>\n",
       "      <td>0.0</td>\n",
       "      <td>0.0</td>\n",
       "      <td>0.000000</td>\n",
       "    </tr>\n",
       "    <tr>\n",
       "      <th>88</th>\n",
       "      <td>0.0</td>\n",
       "      <td>0.000000</td>\n",
       "      <td>0.0</td>\n",
       "      <td>0.0</td>\n",
       "      <td>0.0</td>\n",
       "      <td>0.0</td>\n",
       "      <td>0.0</td>\n",
       "      <td>0.0</td>\n",
       "      <td>0.0</td>\n",
       "      <td>0.0</td>\n",
       "      <td>...</td>\n",
       "      <td>0.0</td>\n",
       "      <td>0.0</td>\n",
       "      <td>0.0</td>\n",
       "      <td>0.175526</td>\n",
       "      <td>0.0</td>\n",
       "      <td>0.000000</td>\n",
       "      <td>0.000000</td>\n",
       "      <td>0.0</td>\n",
       "      <td>0.0</td>\n",
       "      <td>0.000000</td>\n",
       "    </tr>\n",
       "    <tr>\n",
       "      <th>89</th>\n",
       "      <td>0.0</td>\n",
       "      <td>0.101062</td>\n",
       "      <td>0.0</td>\n",
       "      <td>0.0</td>\n",
       "      <td>0.0</td>\n",
       "      <td>0.0</td>\n",
       "      <td>0.0</td>\n",
       "      <td>0.0</td>\n",
       "      <td>0.0</td>\n",
       "      <td>0.0</td>\n",
       "      <td>...</td>\n",
       "      <td>0.0</td>\n",
       "      <td>0.0</td>\n",
       "      <td>0.0</td>\n",
       "      <td>0.249775</td>\n",
       "      <td>0.0</td>\n",
       "      <td>0.000000</td>\n",
       "      <td>0.000000</td>\n",
       "      <td>0.0</td>\n",
       "      <td>0.0</td>\n",
       "      <td>0.101062</td>\n",
       "    </tr>\n",
       "  </tbody>\n",
       "</table>\n",
       "<p>90 rows × 534 columns</p>\n",
       "</div>"
      ],
      "text/plain": [
       "     00      1000   11  12year   14   15  1990  200  2005  2013  ...  yahoo  \\\n",
       "0   0.0  0.000000  0.0     0.0  0.0  0.0   0.0  0.0   0.0   0.0  ...    0.0   \n",
       "1   0.0  0.000000  0.0     0.0  0.0  0.0   0.0  0.0   0.0   0.0  ...    0.0   \n",
       "2   0.0  0.000000  0.0     0.0  0.0  0.0   0.0  0.0   0.0   0.0  ...    0.0   \n",
       "3   0.0  0.000000  0.0     0.0  0.0  0.0   0.0  0.0   0.0   0.0  ...    0.0   \n",
       "4   0.0  0.000000  0.0     0.0  0.0  0.0   0.0  0.0   0.0   0.0  ...    0.0   \n",
       "..  ...       ...  ...     ...  ...  ...   ...  ...   ...   ...  ...    ...   \n",
       "85  0.0  0.000000  0.0     0.0  0.0  0.0   0.0  0.0   0.0   0.0  ...    0.0   \n",
       "86  0.0  0.000000  0.0     0.0  0.0  0.0   0.0  0.0   0.0   0.0  ...    0.0   \n",
       "87  0.0  0.000000  0.0     0.0  0.0  0.0   0.0  0.0   0.0   0.0  ...    0.0   \n",
       "88  0.0  0.000000  0.0     0.0  0.0  0.0   0.0  0.0   0.0   0.0  ...    0.0   \n",
       "89  0.0  0.101062  0.0     0.0  0.0  0.0   0.0  0.0   0.0   0.0  ...    0.0   \n",
       "\n",
       "    yall  year       you  young      your  yourself  youtube  youtuber  \\\n",
       "0    0.0   0.0  0.000000    0.0  0.000000  0.000000      0.0       0.0   \n",
       "1    0.0   0.0  0.000000    0.0  0.000000  0.000000      0.0       0.0   \n",
       "2    0.0   0.0  0.000000    0.0  0.000000  0.000000      0.0       0.0   \n",
       "3    0.0   0.0  0.568499    0.0  0.000000  0.000000      0.0       0.0   \n",
       "4    0.0   0.0  0.429571    0.0  0.000000  0.000000      0.0       0.0   \n",
       "..   ...   ...       ...    ...       ...       ...      ...       ...   \n",
       "85   0.0   0.0  0.235110    0.0  0.261718  0.154071      0.0       0.0   \n",
       "86   0.0   0.0  0.000000    0.0  0.000000  0.000000      0.0       0.0   \n",
       "87   0.0   0.0  0.000000    0.0  0.000000  0.000000      0.0       0.0   \n",
       "88   0.0   0.0  0.175526    0.0  0.000000  0.000000      0.0       0.0   \n",
       "89   0.0   0.0  0.249775    0.0  0.000000  0.000000      0.0       0.0   \n",
       "\n",
       "         yrs  \n",
       "0   0.000000  \n",
       "1   0.000000  \n",
       "2   0.000000  \n",
       "3   0.000000  \n",
       "4   0.000000  \n",
       "..       ...  \n",
       "85  0.000000  \n",
       "86  0.000000  \n",
       "87  0.000000  \n",
       "88  0.000000  \n",
       "89  0.101062  \n",
       "\n",
       "[90 rows x 534 columns]"
      ]
     },
     "execution_count": 88,
     "metadata": {},
     "output_type": "execute_result"
    }
   ],
   "source": [
    "# represent test comment\n",
    "# print(\"TF-IDF of test set\")\n",
    "# test_comment = X_test[\"CONTENT\"]\n",
    "# term_test = vectorizer.get_feature_names()\n",
    "# test_tfidf = vectorizer.fit_transform(test_comment)\n",
    "# term_test = vectorizer.get_feature_names()\n",
    "# X_test = pd.DataFrame(test_tfidf.toarray(),columns=term_test)\n",
    "# X_test"
   ]
  },
  {
   "cell_type": "markdown",
   "metadata": {},
   "source": [
    "## (d) L2-penalized Logistic Regression\n",
    "## i. Determine λ using five fold cross-validation on your training set. Consider log10 λ ∈ {−5,−4,...,5}.\n",
    "## ii. Train L2-penalized Logistic Regression using the λ you found in 1(e)i. Calculate the confusion matrix, accuracy, precision, recall, and F1 score as well as the ROC curve and AUC for your training set."
   ]
  },
  {
   "cell_type": "code",
   "execution_count": 73,
   "metadata": {},
   "outputs": [
    {
     "name": "stdout",
     "output_type": "stream",
     "text": [
      "Best C:  100.0\n",
      "Best λ: 0.01\n"
     ]
    },
    {
     "data": {
      "text/plain": [
       "array([0, 0, 0, 0, 0, 0, 0, 0, 0, 0, 0, 0, 0, 0, 0, 0, 0, 0, 0, 0, 0, 0,\n",
       "       0, 0, 0, 0, 0, 0, 0, 0, 0, 0, 0, 0, 0, 0, 0, 0, 0, 0, 0, 0, 0, 0,\n",
       "       0, 0, 0, 0, 0, 0, 0, 0, 0, 0, 0, 0, 0, 0, 0, 0, 0, 0, 0, 0, 0, 0,\n",
       "       0, 0, 0, 0, 0, 0, 0, 0, 0, 0, 0, 0, 0, 0, 0, 0, 0, 0, 0, 0, 0, 0,\n",
       "       0, 0, 0, 0, 0, 0, 0, 0, 0, 0, 0, 0, 0, 0, 0, 0, 0, 0, 0, 0, 0, 0,\n",
       "       0, 0, 0, 0, 0, 0, 0, 0, 0, 0, 0, 0, 0, 0, 0, 0, 0, 0, 0, 0, 0, 0,\n",
       "       0, 0, 0, 0, 0, 0, 0, 0, 0, 0, 0, 0, 0, 0, 0, 0, 0, 0, 0, 0, 0, 0,\n",
       "       0, 0, 0, 0, 0, 0, 0, 0, 1, 1, 1, 1, 1, 1, 1, 1, 1, 1, 1, 1, 1, 1,\n",
       "       1, 1, 1, 1, 1, 1, 1, 1, 1, 1, 1, 1, 1, 1, 1, 1, 1, 1, 1, 1, 1, 1,\n",
       "       1, 1, 1, 1, 1, 1, 1, 1, 1, 1, 1, 1, 1, 1, 1, 1, 1, 1, 1, 1, 1, 1,\n",
       "       1, 1, 1, 1, 1, 1, 1, 1, 1, 1, 1, 1, 1, 1, 1, 1, 1, 1, 1, 1, 1, 1,\n",
       "       1, 1, 1, 1, 1, 1, 1, 1, 1, 1, 1, 1, 1, 1, 1, 1, 1, 1, 1, 1, 1, 1,\n",
       "       1, 1, 1, 1, 1, 1, 1, 1, 1, 1, 1, 1, 1, 1, 1, 1, 1, 1, 1, 1, 1, 1,\n",
       "       1, 1, 1, 1, 1, 1, 1, 1, 1, 1, 1, 1, 1, 1, 1, 1, 1, 1, 1, 1, 1, 1,\n",
       "       1, 1, 1, 1, 1, 1, 1, 1, 1, 1, 1, 1, 1, 1, 1, 1, 1, 1, 1, 1, 1, 1,\n",
       "       1, 1, 1, 1, 1, 1, 1, 1, 1, 1, 1, 1, 1, 1, 1, 1, 1, 1, 1, 1, 1, 1,\n",
       "       1, 1, 1, 1, 1, 1])"
      ]
     },
     "execution_count": 73,
     "metadata": {},
     "output_type": "execute_result"
    }
   ],
   "source": [
    "from sklearn import linear_model\n",
    "from sklearn.model_selection import GridSearchCV\n",
    "logistic = linear_model.LogisticRegression()\n",
    "penalty = ['l2']\n",
    "# use c for lambda\n",
    "c = [1/pow(10,i) for i in range(-5,6)]\n",
    "parameters = {\"C\":c,\"penalty\":penalty}\n",
    "# cross validation\n",
    "gridcv = GridSearchCV(logistic,parameters,cv=5,n_jobs=-1)\n",
    "\n",
    "best_model = gridcv.fit(X_train_vec,y_train)\n",
    "best_c = best_model.best_estimator_.get_params()['C']\n",
    "print(\"Best C: \",best_c)\n",
    "print(\"Best λ:\",1/best_c)\n",
    "train_pred = best_model.predict(X_train_vec)\n",
    "train_pred"
   ]
  },
  {
   "cell_type": "code",
   "execution_count": 74,
   "metadata": {},
   "outputs": [
    {
     "name": "stdout",
     "output_type": "stream",
     "text": [
      "Confusion matrix:\n",
      "[[162   0]\n",
      " [  0 196]]\n",
      "\n",
      "Accuracy score: 1.0\n",
      "Rrecision, Recall, F1 score\n",
      "              precision    recall  f1-score   support\n",
      "\n",
      "           0       1.00      1.00      1.00       162\n",
      "           1       1.00      1.00      1.00       196\n",
      "\n",
      "    accuracy                           1.00       358\n",
      "   macro avg       1.00      1.00      1.00       358\n",
      "weighted avg       1.00      1.00      1.00       358\n",
      "\n"
     ]
    }
   ],
   "source": [
    "from sklearn import metrics\n",
    "print(\"Confusion matrix:\")\n",
    "print(metrics.confusion_matrix(y_train,train_pred))\n",
    "print()\n",
    "print(\"Accuracy score:\", metrics.accuracy_score(y_train,train_pred))\n",
    "print(\"Rrecision, Recall, F1 score\")\n",
    "print(metrics.classification_report(y_train,train_pred))\n"
   ]
  },
  {
   "cell_type": "code",
   "execution_count": 75,
   "metadata": {},
   "outputs": [
    {
     "data": {
      "text/plain": [
       "<matplotlib.legend.Legend at 0x7fd467f79ac0>"
      ]
     },
     "execution_count": 75,
     "metadata": {},
     "output_type": "execute_result"
    },
    {
     "data": {
      "image/png": "[encoded data removed]",
      "text/plain": [
       "<Figure size 432x288 with 1 Axes>"
      ]
     },
     "metadata": {
      "needs_background": "light"
     },
     "output_type": "display_data"
    }
   ],
   "source": [
    "import matplotlib.pyplot as plt\n",
    "fpr, tpr, _ = metrics.roc_curve(y_train,train_pred.reshape(-1,1),pos_label=1)\n",
    "l2_roc_auc = metrics.roc_auc_score(y_train,train_pred.reshape(-1,1))\n",
    "plt.figure()\n",
    "plt.plot(fpr,tpr,label='Logistic Regression l2 (area=%0.2f)' % l2_roc_auc)\n",
    "plt.plot([0,1],[0,1],'r--')\n",
    "plt.xlabel('False positive rate')\n",
    "plt.ylabel('True positive rate')\n",
    "plt.title('ROC curve')\n",
    "plt.legend(loc='lower right')"
   ]
  },
  {
   "cell_type": "markdown",
   "metadata": {},
   "source": [
    "## iii. Test the algorithm on the test set and calculate the confusion matrix, accu- racy, precision, recall, and F1 score as well as the ROC curve and AUC for the test set. Which one is more important in this application, precision or recall? Calculate Fβ score for β ∈ {0.1, 0.5, .9, 1, 5, 10}."
   ]
  },
  {
   "cell_type": "code",
   "execution_count": 77,
   "metadata": {},
   "outputs": [
    {
     "name": "stdout",
     "output_type": "stream",
     "text": [
      "Confusion matrix:\n",
      "[[40  1]\n",
      " [ 1 48]]\n",
      "\n",
      "accuracy score:  0.9777777777777777\n",
      "Rrecision, Recall, F1 score\n",
      "              precision    recall  f1-score   support\n",
      "\n",
      "           0       0.98      0.98      0.98        41\n",
      "           1       0.98      0.98      0.98        49\n",
      "\n",
      "    accuracy                           0.98        90\n",
      "   macro avg       0.98      0.98      0.98        90\n",
      "weighted avg       0.98      0.98      0.98        90\n",
      "\n"
     ]
    }
   ],
   "source": [
    "test_pred = best_model.predict(X_test_vec)\n",
    "test_pred\n",
    "print(\"Confusion matrix:\")\n",
    "print(metrics.confusion_matrix(y_test,test_pred))\n",
    "print()\n",
    "print(\"accuracy score: \", metrics.accuracy_score(y_test,test_pred))\n",
    "print(\"Rrecision, Recall, F1 score\")\n",
    "print(metrics.classification_report(y_test,test_pred))"
   ]
  },
  {
   "cell_type": "code",
   "execution_count": 13,
   "metadata": {},
   "outputs": [
    {
     "data": {
      "text/plain": [
       "<matplotlib.legend.Legend at 0x7fd46a779b80>"
      ]
     },
     "execution_count": 13,
     "metadata": {},
     "output_type": "execute_result"
    },
    {
     "data": {
      "image/png": "[encoded data removed]",
      "text/plain": [
       "<Figure size 432x288 with 1 Axes>"
      ]
     },
     "metadata": {
      "needs_background": "light"
     },
     "output_type": "display_data"
    }
   ],
   "source": [
    "fpr, tpr, _ = metrics.roc_curve(y_test,test_pred.reshape(-1,1),pos_label=1)\n",
    "l2_roc_auc = metrics.roc_auc_score(y_test,test_pred.reshape(-1,1))\n",
    "plt.figure()\n",
    "plt.plot(fpr,tpr,label='Logistic Regression l2 (area=%0.2f)' % l2_roc_auc)\n",
    "plt.plot([0,1],[0,1],'r--')\n",
    "plt.xlabel('False positive rate')\n",
    "plt.ylabel('True positive rate')\n",
    "plt.title('ROC curve')\n",
    "plt.legend(loc='lower right')"
   ]
  },
  {
   "cell_type": "markdown",
   "metadata": {},
   "source": [
    "Precision is the number of true positives in predicted positives\n",
    "Recall is the number of positives that are predicted correctly in all actual positives\n",
    "In this case, precision is more important because we don't want to filter out comments that are not spams."
   ]
  },
  {
   "cell_type": "code",
   "execution_count": 35,
   "metadata": {},
   "outputs": [
    {
     "name": "stdout",
     "output_type": "stream",
     "text": [
      "Fβ score:\n",
      "When β = 0.1 Fβ score is 0.999\n",
      "When β = 0.5 Fβ score is 0.978\n",
      "When β = 0.9 Fβ score is 0.952\n",
      "When β = 1 Fβ score is 0.946\n",
      "When β = 5 Fβ score is 0.901\n",
      "When β = 10 Fβ score is 0.899\n"
     ]
    }
   ],
   "source": [
    "print(\"Fβ score:\")\n",
    "for i in [0.1,0.5,0.9,1,5,10]:\n",
    "    fbeta = metrics.fbeta_score(y_test,test_pred,beta=i)\n",
    "    print(\"When β =\",i,\"Fβ score is\",round(fbeta,3))"
   ]
  },
  {
   "cell_type": "markdown",
   "metadata": {},
   "source": [
    "## (e) L1-penalized Logistic Regression\n",
    "## i. Determine λ using five fold cross-validation on your training set. Consider log10 λ ∈ {−5,−4,...,5}.\n",
    "## ii. Train L1-penalized Logistic Regression using the λ you found in 1(e)i. Cal- culate the confusion matrix, accuracy, precision, recall, and F1 score as well as the ROC curve and AUC for your training set."
   ]
  },
  {
   "cell_type": "code",
   "execution_count": 41,
   "metadata": {},
   "outputs": [
    {
     "name": "stdout",
     "output_type": "stream",
     "text": [
      "Best C:  10000.0\n",
      "Best λ: 0.0001\n"
     ]
    },
    {
     "data": {
      "text/plain": [
       "array([0, 0, 0, 0, 0, 0, 0, 0, 0, 0, 0, 0, 0, 0, 0, 0, 0, 0, 0, 0, 0, 0,\n",
       "       0, 0, 0, 0, 0, 0, 0, 0, 0, 0, 0, 0, 0, 0, 0, 0, 0, 0, 0, 0, 0, 0,\n",
       "       0, 0, 0, 0, 0, 0, 0, 0, 0, 0, 0, 0, 0, 0, 0, 0, 0, 0, 0, 0, 0, 0,\n",
       "       0, 0, 0, 0, 0, 0, 0, 0, 0, 0, 0, 0, 0, 0, 0, 0, 0, 0, 0, 0, 0, 0,\n",
       "       0, 0, 0, 0, 0, 0, 0, 0, 0, 0, 0, 0, 0, 0, 0, 0, 0, 0, 0, 0, 0, 0,\n",
       "       0, 0, 0, 0, 0, 0, 0, 0, 0, 0, 0, 0, 0, 0, 0, 0, 0, 0, 0, 0, 0, 0,\n",
       "       0, 0, 0, 0, 0, 0, 0, 0, 0, 0, 0, 0, 0, 0, 0, 0, 0, 0, 0, 0, 0, 0,\n",
       "       0, 0, 0, 0, 0, 0, 0, 0, 1, 1, 1, 1, 1, 1, 1, 1, 1, 1, 1, 1, 1, 1,\n",
       "       1, 1, 1, 1, 1, 1, 1, 1, 1, 1, 1, 1, 1, 1, 1, 1, 1, 1, 1, 1, 1, 1,\n",
       "       1, 1, 1, 1, 1, 1, 1, 1, 1, 1, 1, 1, 1, 1, 1, 1, 1, 1, 1, 1, 1, 1,\n",
       "       1, 1, 1, 1, 1, 1, 1, 1, 1, 1, 1, 1, 1, 1, 1, 1, 1, 1, 1, 1, 1, 1,\n",
       "       1, 1, 1, 1, 1, 1, 1, 1, 1, 1, 1, 1, 1, 1, 1, 1, 1, 1, 1, 1, 1, 1,\n",
       "       1, 1, 1, 1, 1, 1, 1, 1, 1, 1, 1, 1, 1, 1, 1, 1, 1, 1, 1, 1, 1, 1,\n",
       "       1, 1, 1, 1, 1, 1, 1, 1, 1, 1, 1, 1, 1, 1, 1, 1, 1, 1, 1, 1, 1, 1,\n",
       "       1, 1, 1, 1, 1, 1, 1, 1, 1, 1, 1, 1, 1, 1, 1, 1, 1, 1, 1, 1, 1, 1,\n",
       "       1, 1, 1, 1, 1, 1, 1, 1, 1, 1, 1, 1, 1, 1, 1, 1, 1, 1, 1, 1, 1, 1,\n",
       "       1, 1, 1, 1, 1, 1])"
      ]
     },
     "execution_count": 41,
     "metadata": {},
     "output_type": "execute_result"
    }
   ],
   "source": [
    "logistic_l1 = linear_model.LogisticRegression()\n",
    "penalty = ['l1']\n",
    "# use c for lambda\n",
    "c = [1/pow(10,i) for i in range(-5,6)]\n",
    "parameters = {\"C\":c,\"penalty\":penalty,\"solver\":['liblinear']}\n",
    "# cross validation\n",
    "gridcv = GridSearchCV(logistic_l1,parameters,cv=5,n_jobs=-1)\n",
    "\n",
    "best_model_l1 = gridcv.fit(X_train_vec,y_train)\n",
    "best_c_l1 = best_model_l1.best_estimator_.get_params()['C']\n",
    "print(\"Best C: \",best_c_l1)\n",
    "print(\"Best λ:\",1/best_c_l1)\n",
    "train_pred = best_model_l1.predict(X_train_vec)\n",
    "train_pred"
   ]
  },
  {
   "cell_type": "code",
   "execution_count": 78,
   "metadata": {},
   "outputs": [
    {
     "name": "stdout",
     "output_type": "stream",
     "text": [
      "Confusion matrix:\n",
      "[[162   0]\n",
      " [  0 196]]\n",
      "\n",
      "accuracy score:  1.0\n",
      "Rrecision, Recall, F1 score\n",
      "              precision    recall  f1-score   support\n",
      "\n",
      "           0       1.00      1.00      1.00       162\n",
      "           1       1.00      1.00      1.00       196\n",
      "\n",
      "    accuracy                           1.00       358\n",
      "   macro avg       1.00      1.00      1.00       358\n",
      "weighted avg       1.00      1.00      1.00       358\n",
      "\n"
     ]
    }
   ],
   "source": [
    "print(\"Confusion matrix:\")\n",
    "print(metrics.confusion_matrix(y_train,train_pred))\n",
    "print()\n",
    "\n",
    "print(\"accuracy score: \", metrics.accuracy_score(y_train,train_pred))\n",
    "print(\"Rrecision, Recall, F1 score\")\n",
    "print(metrics.classification_report(y_train,train_pred))"
   ]
  },
  {
   "cell_type": "code",
   "execution_count": 43,
   "metadata": {},
   "outputs": [
    {
     "data": {
      "text/plain": [
       "<matplotlib.legend.Legend at 0x7fd46a25f910>"
      ]
     },
     "execution_count": 43,
     "metadata": {},
     "output_type": "execute_result"
    },
    {
     "data": {
      "image/png": "[encoded data removed]",
      "text/plain": [
       "<Figure size 432x288 with 1 Axes>"
      ]
     },
     "metadata": {
      "needs_background": "light"
     },
     "output_type": "display_data"
    }
   ],
   "source": [
    "fpr, tpr, _ = metrics.roc_curve(y_train,train_pred.reshape(-1,1),pos_label=1)\n",
    "l1_roc_auc = metrics.roc_auc_score(y_train,train_pred.reshape(-1,1))\n",
    "plt.figure()\n",
    "plt.plot(fpr,tpr,label='Logistic Regression l1 (area=%0.2f)' % l1_roc_auc)\n",
    "plt.plot([0,1],[0,1],'r--')\n",
    "plt.xlabel('False positive rate')\n",
    "plt.ylabel('True positive rate')\n",
    "plt.title('ROC curve')\n",
    "plt.legend(loc='lower right')"
   ]
  },
  {
   "cell_type": "markdown",
   "metadata": {},
   "source": [
    "## iii. Test the algorithm on the test set and calculate the confusion matrix, accu- racy, precision, recall, and F1 score as well as the ROC curve and AUC for the test set."
   ]
  },
  {
   "cell_type": "code",
   "execution_count": 44,
   "metadata": {},
   "outputs": [
    {
     "name": "stdout",
     "output_type": "stream",
     "text": [
      "Confusion matrix:\n",
      "[[40  1]\n",
      " [ 3 46]]\n",
      "\n",
      "Accuracy score: 0.9555555555555556\n",
      "Rrecision, Recall, F1 score\n",
      "              precision    recall  f1-score   support\n",
      "\n",
      "           0       0.93      0.98      0.95        41\n",
      "           1       0.98      0.94      0.96        49\n",
      "\n",
      "    accuracy                           0.96        90\n",
      "   macro avg       0.95      0.96      0.96        90\n",
      "weighted avg       0.96      0.96      0.96        90\n",
      "\n"
     ]
    }
   ],
   "source": [
    "test_pred = best_model_l1.predict(X_test_vec)\n",
    "print(\"Confusion matrix:\")\n",
    "print(metrics.confusion_matrix(y_test,test_pred))\n",
    "print()\n",
    "print(\"Accuracy score:\", metrics.accuracy_score(y_test,test_pred))\n",
    "print(\"Rrecision, Recall, F1 score\")\n",
    "print(metrics.classification_report(y_test,test_pred))"
   ]
  },
  {
   "cell_type": "code",
   "execution_count": 45,
   "metadata": {},
   "outputs": [
    {
     "data": {
      "text/plain": [
       "<matplotlib.legend.Legend at 0x7fd46a365d90>"
      ]
     },
     "execution_count": 45,
     "metadata": {},
     "output_type": "execute_result"
    },
    {
     "data": {
      "image/png": "[encoded data removed]",
      "text/plain": [
       "<Figure size 432x288 with 1 Axes>"
      ]
     },
     "metadata": {
      "needs_background": "light"
     },
     "output_type": "display_data"
    }
   ],
   "source": [
    "fpr, tpr, _ = metrics.roc_curve(y_test,test_pred.reshape(-1,1),pos_label=1)\n",
    "l1_roc_auc = metrics.roc_auc_score(y_test,test_pred.reshape(-1,1))\n",
    "plt.figure()\n",
    "plt.plot(fpr,tpr,label='Logistic Regression l1 (area=%0.2f)' % l1_roc_auc)\n",
    "plt.plot([0,1],[0,1],'r--')\n",
    "plt.xlabel('False positive rate')\n",
    "plt.ylabel('True positive rate')\n",
    "plt.title('ROC curve')\n",
    "plt.legend(loc='lower right')"
   ]
  },
  {
   "cell_type": "markdown",
   "metadata": {},
   "source": [
    "## (f) Binary Classification Using Na ̈ıve Bayes’ Classifiers\n",
    "## i. Solve the problem using a Na ̈ıve Bayes’ classifier. Use Gaussian class condi- tional distributions. Report the confusion matrix, ROC, precision, recall, F1 score, and AUC for both the train and test data sets."
   ]
  },
  {
   "cell_type": "code",
   "execution_count": 48,
   "metadata": {},
   "outputs": [
    {
     "name": "stdout",
     "output_type": "stream",
     "text": [
      "Results for the NB training set\n",
      "Confusion matrix:\n",
      "[[162   0]\n",
      " [  1 195]]\n",
      "\n",
      "Accuracy score: 0.9972067039106145\n",
      "Rrecision, Recall, F1 score\n",
      "              precision    recall  f1-score   support\n",
      "\n",
      "           0       0.99      1.00      1.00       162\n",
      "           1       1.00      0.99      1.00       196\n",
      "\n",
      "    accuracy                           1.00       358\n",
      "   macro avg       1.00      1.00      1.00       358\n",
      "weighted avg       1.00      1.00      1.00       358\n",
      "\n"
     ]
    }
   ],
   "source": [
    "from sklearn.naive_bayes import GaussianNB\n",
    "gnb = GaussianNB()\n",
    "# fit the model using the training set\n",
    "gnb.fit(X_train_vec,y_train)\n",
    "\n",
    "# predictions for the training set\n",
    "train_pred = gnb.predict(X_train_vec)\n",
    "print(\"Results for the NB training set\")\n",
    "print(\"Confusion matrix:\")\n",
    "print(metrics.confusion_matrix(y_train,train_pred))\n",
    "print()\n",
    "print(\"Accuracy score:\", metrics.accuracy_score(y_train,train_pred))\n",
    "print(\"Rrecision, Recall, F1 score\")\n",
    "print(metrics.classification_report(y_train,train_pred))"
   ]
  },
  {
   "cell_type": "code",
   "execution_count": 58,
   "metadata": {},
   "outputs": [
    {
     "data": {
      "text/plain": [
       "<matplotlib.legend.Legend at 0x7fd465223070>"
      ]
     },
     "execution_count": 58,
     "metadata": {},
     "output_type": "execute_result"
    },
    {
     "data": {
      "image/png": "[encoded data removed]",
      "text/plain": [
       "<Figure size 432x288 with 1 Axes>"
      ]
     },
     "metadata": {
      "needs_background": "light"
     },
     "output_type": "display_data"
    }
   ],
   "source": [
    "fpr, tpr, _ = metrics.roc_curve(y_train,train_pred.reshape(-1,1),pos_label=1)\n",
    "nb_roc_auc = metrics.roc_auc_score(y_train,train_pred.reshape(-1,1))\n",
    "plt.figure()\n",
    "plt.plot(fpr,tpr,label='Naive Bayes classfier (area=%0.2f)' % nb_roc_auc)\n",
    "plt.plot([0,1],[0,1],'r--')\n",
    "plt.xlabel('False positive rate')\n",
    "plt.ylabel('True positive rate')\n",
    "plt.title('ROC curve')\n",
    "plt.legend(loc='lower right')"
   ]
  },
  {
   "cell_type": "code",
   "execution_count": 49,
   "metadata": {},
   "outputs": [
    {
     "name": "stdout",
     "output_type": "stream",
     "text": [
      "Confusion matrix:\n",
      "[[35  6]\n",
      " [ 1 48]]\n",
      "\n",
      "Accuracy score: 0.9222222222222223\n",
      "Rrecision, Recall, F1 score\n",
      "              precision    recall  f1-score   support\n",
      "\n",
      "           0       0.97      0.85      0.91        41\n",
      "           1       0.89      0.98      0.93        49\n",
      "\n",
      "    accuracy                           0.92        90\n",
      "   macro avg       0.93      0.92      0.92        90\n",
      "weighted avg       0.93      0.92      0.92        90\n",
      "\n"
     ]
    }
   ],
   "source": [
    "# predictions for the testing set\n",
    "test_pred = gnb.predict(X_test_vec)\n",
    "\n",
    "print(\"Confusion matrix:\")\n",
    "print(metrics.confusion_matrix(y_test,test_pred))\n",
    "print()\n",
    "print(\"Accuracy score:\", metrics.accuracy_score(y_test,test_pred))\n",
    "print(\"Rrecision, Recall, F1 score\")\n",
    "print(metrics.classification_report(y_test,test_pred))"
   ]
  },
  {
   "cell_type": "code",
   "execution_count": 50,
   "metadata": {},
   "outputs": [
    {
     "data": {
      "text/plain": [
       "<matplotlib.legend.Legend at 0x7fd46b3fe820>"
      ]
     },
     "execution_count": 50,
     "metadata": {},
     "output_type": "execute_result"
    },
    {
     "data": {
      "image/png": "[encoded data removed]",
      "text/plain": [
       "<Figure size 432x288 with 1 Axes>"
      ]
     },
     "metadata": {
      "needs_background": "light"
     },
     "output_type": "display_data"
    }
   ],
   "source": [
    "fpr, tpr, _ = metrics.roc_curve(y_test,test_pred.reshape(-1,1),pos_label=1)\n",
    "l1_roc_auc = metrics.roc_auc_score(y_test,test_pred.reshape(-1,1))\n",
    "plt.figure()\n",
    "plt.plot(fpr,tpr,label='Logistic Regression l1 (area=%0.2f)' % l1_roc_auc)\n",
    "plt.plot([0,1],[0,1],'r--')\n",
    "plt.xlabel('False positive rate')\n",
    "plt.ylabel('True positive rate')\n",
    "plt.title('ROC curve')\n",
    "plt.legend(loc='lower right')"
   ]
  },
  {
   "cell_type": "markdown",
   "metadata": {},
   "source": [
    "## (g) (Extra Credit, 5 points) Repeat 1(f)i using multinomial priors"
   ]
  },
  {
   "cell_type": "code",
   "execution_count": 62,
   "metadata": {},
   "outputs": [
    {
     "name": "stdout",
     "output_type": "stream",
     "text": [
      "Results for the multinomial NB training set\n",
      "Confusion matrix:\n",
      "[[154   8]\n",
      " [  0 196]]\n",
      "\n",
      "Accuracy score: 0.9776536312849162\n",
      "Rrecision, Recall, F1 score\n",
      "              precision    recall  f1-score   support\n",
      "\n",
      "           0       1.00      0.95      0.97       162\n",
      "           1       0.96      1.00      0.98       196\n",
      "\n",
      "    accuracy                           0.98       358\n",
      "   macro avg       0.98      0.98      0.98       358\n",
      "weighted avg       0.98      0.98      0.98       358\n",
      "\n"
     ]
    }
   ],
   "source": [
    "from sklearn.naive_bayes import MultinomialNB\n",
    "multiNB = MultinomialNB()\n",
    "multiNB.fit(X_train_vec,y_train)\n",
    "\n",
    "multiNB_train_pred = multiNB.predict(X_train_vec)\n",
    "\n",
    "print(\"Results for the multinomial NB training set\")\n",
    "print(\"Confusion matrix:\")\n",
    "print(metrics.confusion_matrix(y_train,multiNB_train_pred))\n",
    "print()\n",
    "\n",
    "print(\"Accuracy score:\", metrics.accuracy_score(y_train,multiNB_train_pred))\n",
    "print(\"Rrecision, Recall, F1 score\")\n",
    "print(metrics.classification_report(y_train,multiNB_train_pred))"
   ]
  },
  {
   "cell_type": "code",
   "execution_count": 63,
   "metadata": {},
   "outputs": [
    {
     "data": {
      "text/plain": [
       "<matplotlib.legend.Legend at 0x7fd46c1a44f0>"
      ]
     },
     "execution_count": 63,
     "metadata": {},
     "output_type": "execute_result"
    },
    {
     "data": {
      "image/png": "[encoded data removed]",
      "text/plain": [
       "<Figure size 432x288 with 1 Axes>"
      ]
     },
     "metadata": {
      "needs_background": "light"
     },
     "output_type": "display_data"
    }
   ],
   "source": [
    "fpr, tpr, _ = metrics.roc_curve(y_train,multiNB_train_pred.reshape(-1,1),pos_label=1)\n",
    "nb_roc_auc = metrics.roc_auc_score(y_train,multiNB_train_pred.reshape(-1,1))\n",
    "plt.figure()\n",
    "plt.plot(fpr,tpr,label='Multinomial Naive Bayes classfier (area=%0.2f)' % nb_roc_auc)\n",
    "plt.plot([0,1],[0,1],'r--')\n",
    "plt.xlabel('False positive rate')\n",
    "plt.ylabel('True positive rate')\n",
    "plt.title('ROC curve')\n",
    "plt.legend(loc='lower right')"
   ]
  },
  {
   "cell_type": "code",
   "execution_count": 64,
   "metadata": {},
   "outputs": [
    {
     "name": "stdout",
     "output_type": "stream",
     "text": [
      "Confusion matrix:\n",
      "[[33  8]\n",
      " [ 0 49]]\n",
      "\n",
      "Accuracy score: 0.9111111111111111\n",
      "Rrecision, Recall, F1 score\n",
      "              precision    recall  f1-score   support\n",
      "\n",
      "           0       1.00      0.80      0.89        41\n",
      "           1       0.86      1.00      0.92        49\n",
      "\n",
      "    accuracy                           0.91        90\n",
      "   macro avg       0.93      0.90      0.91        90\n",
      "weighted avg       0.92      0.91      0.91        90\n",
      "\n"
     ]
    }
   ],
   "source": [
    "# predictions for the testing set\n",
    "multiNB_test_pred = multiNB.predict(X_test_vec)\n",
    "\n",
    "print(\"Confusion matrix:\")\n",
    "print(metrics.confusion_matrix(y_test,multiNB_test_pred))\n",
    "print()\n",
    "print(\"Accuracy score:\", metrics.accuracy_score(y_test,multiNB_test_pred))\n",
    "print(\"Rrecision, Recall, F1 score\")\n",
    "print(metrics.classification_report(y_test,multiNB_test_pred))"
   ]
  },
  {
   "cell_type": "code",
   "execution_count": 68,
   "metadata": {},
   "outputs": [
    {
     "data": {
      "text/plain": [
       "<matplotlib.legend.Legend at 0x7fd46cbb4910>"
      ]
     },
     "execution_count": 68,
     "metadata": {},
     "output_type": "execute_result"
    },
    {
     "data": {
      "image/png": "[encoded data removed]",
      "text/plain": [
       "<Figure size 432x288 with 1 Axes>"
      ]
     },
     "metadata": {
      "needs_background": "light"
     },
     "output_type": "display_data"
    }
   ],
   "source": [
    "fpr, tpr, _ = metrics.roc_curve(y_test,multiNB_test_pred.reshape(-1,1),pos_label=1)\n",
    "nb_roc_auc = metrics.roc_auc_score(y_test,multiNB_test_pred.reshape(-1,1))\n",
    "plt.figure()\n",
    "plt.plot(fpr,tpr,label='Multinomial Naive Bayes classfier (area=%0.2f)' % nb_roc_auc)\n",
    "plt.plot([0,1],[0,1],'r--')\n",
    "plt.xlabel('False positive rate')\n",
    "plt.ylabel('True positive rate')\n",
    "plt.title('ROC curve')\n",
    "plt.legend(loc='lower right')"
   ]
  },
  {
   "cell_type": "markdown",
   "metadata": {},
   "source": [
    "## Create one table for each of the five data sets: Shakira, Eminem, LMFAO, KatyPerry, and Psy \n",
    "to compare accuracy, precision, recall, F1, score and AUC of L1-penalized and L2-penalized logistic regression, Na ̈ıve Bayes’ with Gaussian and multinomial priors for the test sets. \n",
    "Use the first ⌊0.8H⌋ of H hams and the first ⌊0.8S⌋ of S spams as your training set and the rest as your test set. Show the best score in each column using boldface. A hypothetical table is shown below:"
   ]
  },
  {
   "cell_type": "code",
   "execution_count": 147,
   "metadata": {
    "scrolled": true
   },
   "outputs": [
    {
     "name": "stdout",
     "output_type": "stream",
     "text": [
      "Data set: Youtube01-Psy\n",
      "length of X_train: 280\n",
      "length of X_test: 70\n",
      "                Accuracy Precision    Recall        F1       AUC\n",
      "NB-Gaussian     0.857143  0.857143  0.857143  0.857143  0.857143\n",
      "NB-Multinomial  0.957143  0.944444  0.971429  0.957746  0.957143\n",
      "l2              0.985714  0.972222         1  0.985915  0.985714\n",
      "l1              0.957143  0.944444  0.971429  0.957746  0.957143\n",
      "\n",
      "Data set: Youtube02-KatyPerry\n",
      "length of X_train: 280\n",
      "length of X_test: 70\n",
      "                Accuracy Precision    Recall        F1       AUC\n",
      "NB-Gaussian     0.857143  0.820513  0.914286  0.864865  0.857143\n",
      "NB-Multinomial  0.914286  0.939394  0.885714  0.911765  0.914286\n",
      "l2              0.914286  0.967742  0.857143  0.909091  0.914286\n",
      "l1              0.957143  0.970588  0.942857  0.956522  0.957143\n",
      "\n",
      "Data set: Youtube03-LMFAO\n",
      "length of X_train: 349\n",
      "length of X_test: 89\n",
      "                Accuracy Precision    Recall        F1       AUC\n",
      "NB-Gaussian     0.898876  0.953488  0.854167  0.901099  0.902693\n",
      "NB-Multinomial  0.876404  0.862745  0.916667  0.888889  0.872967\n",
      "l2              0.921348  0.955556  0.895833  0.924731  0.923526\n",
      "l1              0.910112   0.97619  0.854167  0.911111  0.914888\n",
      "\n",
      "Data set: Youtube04-Eminem\n",
      "length of X_train: 358\n",
      "length of X_test: 90\n",
      "                Accuracy Precision    Recall        F1       AUC\n",
      "NB-Gaussian     0.922222  0.888889  0.979592  0.932039  0.916625\n",
      "NB-Multinomial  0.911111  0.859649         1  0.924528  0.902439\n",
      "l2              0.977778  0.979592  0.979592  0.979592  0.977601\n",
      "l1              0.944444         1  0.897959  0.946237   0.94898\n",
      "\n",
      "Data set: Youtube05-Shakira\n",
      "length of X_train: 295\n",
      "length of X_test: 75\n",
      "                Accuracy Precision    Recall        F1       AUC\n",
      "NB-Gaussian     0.906667  0.833333         1  0.909091    0.9125\n",
      "NB-Multinomial      0.96  0.944444  0.971429  0.957746  0.960714\n",
      "l2                  0.96  0.944444  0.971429  0.957746  0.960714\n",
      "l1              0.986667         1  0.971429  0.985507  0.985714\n",
      "\n"
     ]
    }
   ],
   "source": [
    "# create a for loop\n",
    "l=['Youtube01-Psy','Youtube02-KatyPerry','Youtube03-LMFAO','Youtube04-Eminem','Youtube05-Shakira']\n",
    "for i in range(0,len(l)):\n",
    "    print('Data set: '+l[i])\n",
    "    \n",
    "    # create a data frame for each one\n",
    "    df_result = pd.DataFrame(columns=['Accuracy','Precision','Recall','F1','AUC'],index=['NB-Gaussian','NB-Multinomial','l2','l1'])\n",
    "\n",
    "    # read csv\n",
    "    path = '../Data/'+l[i]+'.csv'\n",
    "    df = pd.read_csv(path)\n",
    "    \n",
    "    # split the ham and spam cases\n",
    "    ham = df[df['CLASS']==0]\n",
    "    spam = df[df['CLASS']==1]\n",
    "\n",
    "    # separate x and y\n",
    "    ham_X = ham.iloc[:,:4]\n",
    "    ham_y = ham.iloc[:,4]\n",
    "    spam_X = spam.iloc[:,:4]\n",
    "    spam_y = spam.iloc[:,4]\n",
    "    # split the test and train data\n",
    "    ham_X_train, ham_X_test, ham_y_train, ham_y_test = train_test_split(ham_X,ham_y,train_size=0.8,shuffle=False)\n",
    "    spam_X_train, spam_X_test, spam_y_train, spam_y_test = train_test_split(spam_X,spam_y,train_size=0.8, shuffle=False)\n",
    "    # get training and test set\n",
    "    X_train = pd.concat([ham_X_train,spam_X_train])\n",
    "    y_train = pd.concat([ham_y_train,spam_y_train])\n",
    "    X_test = pd.concat([ham_X_test,spam_X_test])\n",
    "    y_test = pd.concat([ham_y_test,spam_y_test])\n",
    "    \n",
    "    len_X_train = len(X_train)\n",
    "    len_X_test = len(X_test)\n",
    "    print(\"length of X_train:\",len_X_train)\n",
    "    print(\"length of X_test:\",len_X_test)\n",
    "    \n",
    "    # create tfidf\n",
    "    vectorizer = TfidfVectorizer()\n",
    "    train_comment = X_train['CONTENT']\n",
    "    test_comment = X_test['CONTENT']\n",
    "    corpus = pd.concat([train_comment,test_comment])\n",
    "    corpus_tfidf = vectorizer.fit_transform(corpus)\n",
    "    term = vectorizer.get_feature_names()\n",
    "    corpus_vec = pd.DataFrame(corpus_tfidf.toarray(),columns = term)\n",
    "\n",
    "    X_train_vec = corpus_vec[:len_X_train]\n",
    "    X_test_vec = corpus_vec[len_X_train:]\n",
    "\n",
    "    # l2 regression\n",
    "    logistic = linear_model.LogisticRegression()\n",
    "    penalty = ['l2']\n",
    "    # use c for lambda\n",
    "    c = [1/pow(10,i) for i in range(-5,6)]\n",
    "    parameters = {\"C\":c,\"penalty\":penalty}\n",
    "    # cross validation\n",
    "    gridcv = GridSearchCV(logistic,parameters,cv=5,n_jobs=-1)\n",
    "\n",
    "    best_model = gridcv.fit(X_train_vec,y_train)\n",
    "    best_c = best_model.best_estimator_.get_params()['C']\n",
    "    test_pred = best_model.predict(X_test_vec)\n",
    "    \n",
    "    accuracy = metrics.accuracy_score(y_test,test_pred)\n",
    "    precision = metrics.precision_score(y_test,test_pred)\n",
    "    recall = metrics.recall_score(y_test,test_pred)\n",
    "    f1 = metrics.f1_score(y_test,test_pred)\n",
    "    auc = metrics.roc_auc_score(y_test,test_pred)\n",
    "    \n",
    "    df_result.loc['l2'] = [accuracy, precision, recall, f1, auc]\n",
    "    \n",
    "\n",
    "    #l1\n",
    "    logistic_l1 = linear_model.LogisticRegression()\n",
    "    penalty = ['l1']\n",
    "    # use c for lambda\n",
    "    c = [1/pow(10,i) for i in range(-5,6)]\n",
    "    parameters = {\"C\":c,\"penalty\":penalty,\"solver\":['liblinear']}\n",
    "    # cross validation\n",
    "    gridcv = GridSearchCV(logistic_l1,parameters,cv=5,n_jobs=-1)\n",
    "\n",
    "    best_model_l1 = gridcv.fit(X_train_vec,y_train)\n",
    "    best_c_l1 = best_model_l1.best_estimator_.get_params()['C']\n",
    "\n",
    "    test_pred = best_model_l1.predict(X_test_vec)\n",
    "    \n",
    "    accuracy = metrics.accuracy_score(y_test,test_pred)\n",
    "    precision = metrics.precision_score(y_test,test_pred)\n",
    "    recall = metrics.recall_score(y_test,test_pred)\n",
    "    f1 = metrics.f1_score(y_test,test_pred)\n",
    "    auc = metrics.roc_auc_score(y_test,test_pred)\n",
    "    \n",
    "    df_result.loc['l1'] = [accuracy, precision, recall, f1, auc]\n",
    "    \n",
    "    #NB-Gaussian\n",
    "    gnb = GaussianNB()\n",
    "    # fit the model using the training set\n",
    "    gnb.fit(X_train_vec,y_train)\n",
    "    test_pred = gnb.predict(X_test_vec)\n",
    "    \n",
    "    accuracy = metrics.accuracy_score(y_test,test_pred)\n",
    "    precision = metrics.precision_score(y_test,test_pred)\n",
    "    recall = metrics.recall_score(y_test,test_pred)\n",
    "    f1 = metrics.f1_score(y_test,test_pred)\n",
    "    auc = metrics.roc_auc_score(y_test,test_pred)\n",
    "    df_result.loc['NB-Gaussian'] = [accuracy, precision, recall, f1, auc]\n",
    "    \n",
    "    #NB-Multinomial\n",
    "    multiNB = MultinomialNB()\n",
    "    multiNB.fit(X_train_vec,y_train)\n",
    "\n",
    "    multiNB_test_pred = multiNB.predict(X_test_vec)\n",
    "    \n",
    "    accuracy = metrics.accuracy_score(y_test,multiNB_test_pred)\n",
    "    precision = metrics.precision_score(y_test,multiNB_test_pred)\n",
    "    recall = metrics.recall_score(y_test,multiNB_test_pred)\n",
    "    f1 = metrics.f1_score(y_test,multiNB_test_pred)\n",
    "    auc = metrics.roc_auc_score(y_test,multiNB_test_pred)\n",
    "    df_result.loc['NB-Multinomial'] = [accuracy, precision, recall, f1, auc]\n",
    "    \n",
    "    print(df_result)\n",
    "    print()"
   ]
  }
 ],
 "metadata": {
  "kernelspec": {
   "display_name": "Python 3",
   "language": "python",
   "name": "python3"
  },
  "language_info": {
   "codemirror_mode": {
    "name": "ipython",
    "version": 3
   },
   "file_extension": ".py",
   "mimetype": "text/x-python",
   "name": "python",
   "nbconvert_exporter": "python",
   "pygments_lexer": "ipython3",
   "version": "3.8.5"
  }
 },
 "nbformat": 4,
 "nbformat_minor": 4
}
